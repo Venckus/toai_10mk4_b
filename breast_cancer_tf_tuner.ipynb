{
  "nbformat": 4,
  "nbformat_minor": 0,
  "metadata": {
    "colab": {
      "name": "breast-cancer-tf-tuner.ipynb",
      "provenance": [],
      "collapsed_sections": [],
      "toc_visible": true
    },
    "kernelspec": {
      "name": "python388jvsc74a57bd0bfcce304f6817457209c7cbadeaf2e656024a318ae3f01cf7cf3c6157d7efa40",
      "display_name": "Python 3.8.8 64-bit"
    },
    "language_info": {
      "name": "python",
      "version": "3.8.8"
    },
    "accelerator": "GPU",
    "metadata": {
      "interpreter": {
        "hash": "bfcce304f6817457209c7cbadeaf2e656024a318ae3f01cf7cf3c6157d7efa40"
      }
    }
  },
  "cells": [
    {
      "cell_type": "markdown",
      "metadata": {
        "id": "aaKe7f_F-SAY"
      },
      "source": [
        "# Imports"
      ]
    },
    {
      "cell_type": "code",
      "metadata": {
        "id": "PaVukiBu-Qoj"
      },
      "source": [
        "%reload_ext autoreload\n",
        "%autoreload 2\n",
        "%matplotlib inline"
      ],
      "execution_count": 1,
      "outputs": []
    },
    {
      "cell_type": "code",
      "metadata": {
        "colab": {
          "base_uri": "https://localhost:8080/"
        },
        "id": "hUceI6Zgr9j7",
        "outputId": "f84a49cb-b6bc-4399-bcaa-655d34cd36f5"
      },
      "source": [
        "!pip install -q -U keras-tuner"
      ],
      "execution_count": null,
      "outputs": [
        {
          "output_type": "stream",
          "text": [
            "\u001b[?25l\r\u001b[K     |█████▏                          | 10kB 24.6MB/s eta 0:00:01\r\u001b[K     |██████████▍                     | 20kB 30.7MB/s eta 0:00:01\r\u001b[K     |███████████████▋                | 30kB 33.1MB/s eta 0:00:01\r\u001b[K     |████████████████████▉           | 40kB 35.4MB/s eta 0:00:01\r\u001b[K     |██████████████████████████      | 51kB 37.7MB/s eta 0:00:01\r\u001b[K     |███████████████████████████████▎| 61kB 39.8MB/s eta 0:00:01\r\u001b[K     |████████████████████████████████| 71kB 9.6MB/s \n",
            "\u001b[?25h  Building wheel for keras-tuner (setup.py) ... \u001b[?25l\u001b[?25hdone\n",
            "  Building wheel for terminaltables (setup.py) ... \u001b[?25l\u001b[?25hdone\n"
          ],
          "name": "stdout"
        }
      ]
    },
    {
      "cell_type": "code",
      "metadata": {
        "colab": {
          "base_uri": "https://localhost:8080/"
        },
        "id": "ZWO2zHHe6rAD",
        "outputId": "000fc996-7340-4bc2-9b26-66ee17957eb8"
      },
      "source": [
        "!pip install -q git+https://github.com/tensorflow/examples.git"
      ],
      "execution_count": null,
      "outputs": [
        {
          "output_type": "stream",
          "text": [
            "  Building wheel for tensorflow-examples (setup.py) ... \u001b[?25l\u001b[?25hdone\n"
          ],
          "name": "stdout"
        }
      ]
    },
    {
      "cell_type": "code",
      "metadata": {
        "id": "UGrx5f1V-CR7"
      },
      "source": [
        "import os\n",
        "from pathlib import Path\n",
        "import numpy as np\n",
        "import torch\n",
        "import pandas as pd\n",
        "import re\n",
        "import matplotlib.pyplot as plt\n",
        "import cv2\n",
        "import tensorflow as tf\n",
        "from IPython.display import clear_output\n",
        "import kerastuner as kt\n",
        "from tensorflow_examples.models.pix2pix import pix2pix"
      ],
      "execution_count": 2,
      "outputs": []
    },
    {
      "cell_type": "markdown",
      "metadata": {
        "id": "3vswEFQP-caI"
      },
      "source": [
        "## Download"
      ]
    },
    {
      "cell_type": "code",
      "metadata": {
        "id": "gACLJ8DM-cFj"
      },
      "source": [
        "import json\n",
        "api_token = {\"username\": \"x\", \"key\": \"y\"} #\n",
        "!mkdir -p ~/.kaggle/\n",
        "with open('/root/.kaggle/kaggle.json', 'w') as file:\n",
        "  json.dump(api_token, file)\n",
        "!chmod 600 /root/.kaggle/kaggle.json"
      ],
      "execution_count": null,
      "outputs": []
    },
    {
      "cell_type": "code",
      "metadata": {
        "colab": {
          "base_uri": "https://localhost:8080/"
        },
        "id": "1_UMkXlK-75j",
        "outputId": "9745c268-844d-492e-b224-392f7f6cbc93"
      },
      "source": [
        "!ls -la /root/.kaggle/"
      ],
      "execution_count": null,
      "outputs": [
        {
          "output_type": "stream",
          "text": [
            "total 16\n",
            "drwxr-xr-x 2 root root 4096 May 12 17:14 .\n",
            "drwx------ 1 root root 4096 May 12 17:14 ..\n",
            "-rw------- 1 root root   73 May 12 17:14 kaggle.json\n"
          ],
          "name": "stdout"
        }
      ]
    },
    {
      "cell_type": "code",
      "metadata": {
        "colab": {
          "base_uri": "https://localhost:8080/"
        },
        "id": "uL-761_a_SZe",
        "outputId": "8246fc80-5a78-4717-f116-f2b7e67d43c7"
      },
      "source": [
        "!pwd"
      ],
      "execution_count": null,
      "outputs": [
        {
          "output_type": "stream",
          "text": [
            "/content\n"
          ],
          "name": "stdout"
        }
      ]
    },
    {
      "cell_type": "code",
      "metadata": {
        "colab": {
          "base_uri": "https://localhost:8080/"
        },
        "id": "nYATmlVT_Jyo",
        "outputId": "d4b7844b-fcba-489e-d8ea-ea7f21f31637"
      },
      "source": [
        "path = Path('/content/data')\n",
        "path.mkdir(parents=True, exist_ok=True)\n",
        "path"
      ],
      "execution_count": null,
      "outputs": [
        {
          "output_type": "execute_result",
          "data": {
            "text/plain": [
              "PosixPath('/content/data')"
            ]
          },
          "metadata": {
            "tags": []
          },
          "execution_count": 6
        }
      ]
    },
    {
      "cell_type": "code",
      "metadata": {
        "colab": {
          "base_uri": "https://localhost:8080/"
        },
        "id": "FMF3GKFLADAz",
        "outputId": "38254900-bce7-4ce5-e317-3eb1a47f599a"
      },
      "source": [
        "!kaggle datasets download -d aryashah2k/breast-ultrasound-images-dataset -p {path}"
      ],
      "execution_count": null,
      "outputs": [
        {
          "output_type": "stream",
          "text": [
            "Downloading breast-ultrasound-images-dataset.zip to /content/data\n",
            " 95% 185M/195M [00:02<00:00, 86.9MB/s]\n",
            "100% 195M/195M [00:02<00:00, 90.1MB/s]\n"
          ],
          "name": "stdout"
        }
      ]
    },
    {
      "cell_type": "code",
      "metadata": {
        "id": "5fEZEkPAAG3r"
      },
      "source": [
        "!unzip -q -n {path}/breast-ultrasound-images-dataset.zip -d {path}"
      ],
      "execution_count": null,
      "outputs": []
    },
    {
      "cell_type": "code",
      "metadata": {
        "colab": {
          "base_uri": "https://localhost:8080/"
        },
        "id": "o6HZa5sbAJNk",
        "outputId": "8acd9aa5-d30b-4f73-caf9-e68c5897303a"
      },
      "source": [
        "!ls '/content/data/Dataset_BUSI_with_GT'"
      ],
      "execution_count": null,
      "outputs": [
        {
          "output_type": "stream",
          "text": [
            "benign\tmalignant  normal\n"
          ],
          "name": "stdout"
        }
      ]
    },
    {
      "cell_type": "code",
      "metadata": {
        "id": "IRv1skXcAS2z"
      },
      "source": [
        "path = Path('/content/data/Dataset_BUSI_with_GT')"
      ],
      "execution_count": null,
      "outputs": []
    },
    {
      "cell_type": "code",
      "metadata": {
        "id": "j_QX1xJLVn4u"
      },
      "source": [
        "os.listdir(f\"{path}/benign\")"
      ],
      "execution_count": null,
      "outputs": []
    },
    {
      "cell_type": "markdown",
      "metadata": {
        "id": "Q17JzPGWW1XA"
      },
      "source": [
        "# Load data"
      ]
    },
    {
      "cell_type": "code",
      "metadata": {
        "id": "X7FWLUfe-bYS"
      },
      "source": [
        "fram_obj_train = {'img' : [], 'mask' : []}"
      ],
      "execution_count": null,
      "outputs": []
    },
    {
      "cell_type": "code",
      "metadata": {
        "colab": {
          "base_uri": "https://localhost:8080/"
        },
        "id": "I2_xtPXpVyRW",
        "outputId": "85fa71f7-84c6-4036-a48a-35fa2bfe8c70"
      },
      "source": [
        "mask_files = list(sorted(path.rglob('*_mask.png')))\n",
        "len(mask_files), mask_files[0]"
      ],
      "execution_count": null,
      "outputs": [
        {
          "output_type": "execute_result",
          "data": {
            "text/plain": [
              "(780,\n",
              " PosixPath('/content/data/Dataset_BUSI_with_GT/benign/benign (1)_mask.png'))"
            ]
          },
          "metadata": {
            "tags": []
          },
          "execution_count": 11
        }
      ]
    },
    {
      "cell_type": "code",
      "metadata": {
        "id": "jzcFrFHAWZ6-"
      },
      "source": [
        "fram_obj_train['img'] = list(sorted(path.rglob('*[!_mask].png')))\n",
        "fram_obj_train['mask'] = list(sorted(path.rglob('*_mask.png')))"
      ],
      "execution_count": null,
      "outputs": []
    },
    {
      "cell_type": "code",
      "metadata": {
        "id": "9Kv9wmXv-jhR"
      },
      "source": [
        "def load_data(frame_obj=None, img_path=None, mask_path=None, shape=256):\n",
        "    img_names = os.listdir(img_path)\n",
        "    names = []\n",
        "    mask_names = []\n",
        "    unames = []\n",
        "    for i in range(len(img_names)):\n",
        "        if '_mask_' in img_names[i]: continue\n",
        "        unames.append(img_names[i].split(')')[0])\n",
        "    unames = list(set(unames))\n",
        "    for i in range(len(unames)):\n",
        "        names.append(f\"{unames[i]}).png\")\n",
        "        mask_names.append(f\"{unames[i]})_mask.png\")\n",
        "    img_path = f\"{img_path}/\"\n",
        "    mask_path = f\"{mask_path}/\"\n",
        "    for i in range(len(names)):\n",
        "        img = plt.imread(img_path + names[i])\n",
        "        mask = plt.imread(mask_path + mask_names[i])\n",
        "        img = cv2.resize(img, (shape, shape))\n",
        "        mask = cv2.resize(mask, (shape, shape))\n",
        "        frame_obj['img'].append(img)\n",
        "        frame_obj['mask'].append(mask)\n",
        "    return frame_obj"
      ],
      "execution_count": null,
      "outputs": []
    },
    {
      "cell_type": "code",
      "metadata": {
        "id": "qGRZljhw-lJp"
      },
      "source": [
        "fram_obj_train = load_data(frame_obj=fram_obj_train, img_path=path/f'benign', \n",
        "                            mask_path=path/f'benign', shape=256)"
      ],
      "execution_count": null,
      "outputs": []
    },
    {
      "cell_type": "code",
      "metadata": {
        "id": "0h1NkTY4-mml"
      },
      "source": [
        "fram_obj_train = load_data(frame_obj=fram_obj_train, img_path=path/f'malignant', \n",
        "                            mask_path=path/f'malignant', shape=256)"
      ],
      "execution_count": null,
      "outputs": []
    },
    {
      "cell_type": "code",
      "metadata": {
        "id": "FAZIl8YIYrDs"
      },
      "source": [
        "fram_obj_train = load_data(frame_obj=fram_obj_train, img_path=path/f'normal', \n",
        "                            mask_path=path/f'normal', shape=256)"
      ],
      "execution_count": null,
      "outputs": []
    },
    {
      "cell_type": "code",
      "metadata": {
        "id": "md857OQUdkpr"
      },
      "source": [
        "len(fram_obj_train['img']), len(fram_obj_train['mask'])"
      ],
      "execution_count": null,
      "outputs": []
    },
    {
      "cell_type": "markdown",
      "metadata": {
        "id": "gk7of7F3W-au"
      },
      "source": [
        "# Explore data"
      ]
    },
    {
      "cell_type": "code",
      "metadata": {
        "id": "O4FJRgg9W_tP"
      },
      "source": [
        "fram_obj_train['img'][1].name, fram_obj_train['mask'][1].name"
      ],
      "execution_count": null,
      "outputs": []
    },
    {
      "cell_type": "code",
      "metadata": {
        "id": "dabuk5yq-puD",
        "colab": {
          "base_uri": "https://localhost:8080/"
        },
        "outputId": "90966b94-bca4-444a-fee2-9f06ad93ce9b"
      },
      "source": [
        "fram_obj_train['img'][1].shape, fram_obj_train['mask'][1].shape"
      ],
      "execution_count": null,
      "outputs": [
        {
          "output_type": "execute_result",
          "data": {
            "text/plain": [
              "((256, 256, 3), (256, 256))"
            ]
          },
          "metadata": {
            "tags": []
          },
          "execution_count": 17
        }
      ]
    },
    {
      "cell_type": "code",
      "metadata": {
        "colab": {
          "base_uri": "https://localhost:8080/"
        },
        "id": "i_U8JYxkgQQj",
        "outputId": "b9193f84-8314-44bd-99a6-30a1be3f10a2"
      },
      "source": [
        "np.unique(fram_obj_train['mask'][1])"
      ],
      "execution_count": null,
      "outputs": [
        {
          "output_type": "execute_result",
          "data": {
            "text/plain": [
              "array([0.0000000e+00, 8.0871582e-04, 3.6468506e-03, 3.9062500e-03,\n",
              "       4.6234131e-03, 8.9263916e-03, 1.1215210e-02, 2.2109985e-02,\n",
              "       2.8762817e-02, 3.6087036e-02, 3.6758423e-02, 4.2968750e-02,\n",
              "       4.4906616e-02, 4.5394897e-02, 5.0888062e-02, 5.1040649e-02,\n",
              "       7.1517944e-02, 8.9126587e-02, 9.2514038e-02, 9.7656250e-02,\n",
              "       1.0322571e-01, 1.0546875e-01, 1.0990906e-01, 1.2109375e-01,\n",
              "       1.3404846e-01, 1.6227722e-01, 1.6670227e-01, 1.6796875e-01,\n",
              "       1.7820740e-01, 1.8359375e-01, 1.8605042e-01, 1.9047546e-01,\n",
              "       1.9065857e-01, 1.9148254e-01, 1.9921875e-01, 2.0008850e-01,\n",
              "       2.0703125e-01, 2.2251892e-01, 2.2618103e-01, 2.3130798e-01,\n",
              "       2.3268127e-01, 2.4897766e-01, 2.4998474e-01, 2.7626038e-01,\n",
              "       2.8515625e-01, 2.9344177e-01, 2.9829407e-01, 3.0078125e-01,\n",
              "       3.1640625e-01, 3.3203125e-01, 3.3290100e-01, 3.4059143e-01,\n",
              "       3.5420227e-01, 3.5780334e-01, 3.6415100e-01, 3.6579895e-01,\n",
              "       3.7696838e-01, 3.7890625e-01, 3.8671875e-01, 3.9482117e-01,\n",
              "       3.9869690e-01, 3.9976501e-01, 4.0043640e-01, 4.0931702e-01,\n",
              "       4.4908142e-01, 4.4929504e-01, 4.5072937e-01, 4.6484375e-01,\n",
              "       4.8570251e-01, 5.1171875e-01, 5.1655579e-01, 5.3515625e-01,\n",
              "       5.5009460e-01, 5.5078125e-01, 5.5503845e-01, 5.6640625e-01,\n",
              "       5.7411194e-01, 5.9765625e-01, 6.0197449e-01, 6.0768127e-01,\n",
              "       6.1323547e-01, 6.1328125e-01, 6.2890625e-01, 6.4186096e-01,\n",
              "       6.4628601e-01, 6.5824890e-01, 6.6087341e-01, 6.7543030e-01,\n",
              "       6.7558289e-01, 6.9322205e-01, 6.9921875e-01, 7.0860291e-01,\n",
              "       7.1484375e-01, 7.2520447e-01, 7.2557068e-01, 7.3046875e-01,\n",
              "       7.4067688e-01, 7.4205017e-01, 7.4415588e-01, 7.5978088e-01,\n",
              "       7.6171875e-01, 7.7734375e-01, 7.9408264e-01, 7.9524231e-01,\n",
              "       7.9908752e-01, 8.0859375e-01, 8.0860901e-01, 8.1965637e-01,\n",
              "       8.2421875e-01, 8.2460022e-01, 8.3259583e-01, 8.4422302e-01,\n",
              "       8.5176086e-01, 8.5630798e-01, 8.7109375e-01, 8.7208557e-01,\n",
              "       8.7300110e-01, 8.7315369e-01, 8.7425232e-01, 8.7449646e-01,\n",
              "       8.7770081e-01, 8.7890625e-01, 8.8560486e-01, 8.8671875e-01,\n",
              "       8.8749695e-01, 8.9823914e-01, 9.1609192e-01, 9.2152405e-01,\n",
              "       9.3302917e-01, 9.3324280e-01, 9.3708801e-01, 9.4140625e-01,\n",
              "       9.5703125e-01, 9.6592712e-01, 9.6635437e-01, 9.6910095e-01,\n",
              "       9.8338318e-01, 9.8828125e-01, 9.8936462e-01, 9.9629211e-01,\n",
              "       9.9946594e-01, 1.0000000e+00], dtype=float32)"
            ]
          },
          "metadata": {
            "tags": []
          },
          "execution_count": 56
        }
      ]
    },
    {
      "cell_type": "code",
      "metadata": {
        "colab": {
          "base_uri": "https://localhost:8080/"
        },
        "id": "3T2e4YBfCCUn",
        "outputId": "646b0c43-97d0-43ff-8a80-c228deddb868"
      },
      "source": [
        "len(fram_obj_train['img']), len(fram_obj_train['mask'])"
      ],
      "execution_count": null,
      "outputs": [
        {
          "output_type": "execute_result",
          "data": {
            "text/plain": [
              "(780, 780)"
            ]
          },
          "metadata": {
            "tags": []
          },
          "execution_count": 16
        }
      ]
    },
    {
      "cell_type": "code",
      "metadata": {
        "colab": {
          "base_uri": "https://localhost:8080/",
          "height": 317
        },
        "id": "mfOHfL2Z-n6h",
        "outputId": "776635ee-c701-4092-c388-48f6770a3cfb"
      },
      "source": [
        "plt.figure(figsize=(10,7))\n",
        "plt.subplot(1,2,1)\n",
        "plt.imshow(fram_obj_train['img'][1])\n",
        "plt.title('Ultra Sound Image')\n",
        "plt.subplot(1,2,2)\n",
        "plt.imshow(fram_obj_train['mask'][1])\n",
        "plt.title('Mask for Cancer')\n",
        "plt.show()"
      ],
      "execution_count": null,
      "outputs": [
        {
          "output_type": "display_data",
          "data": {
            "image/png": "[encoded data removed]",
            "text/plain": [
              "<Figure size 720x504 with 2 Axes>"
            ]
          },
          "metadata": {
            "tags": [],
            "needs_background": "light"
          }
        }
      ]
    },
    {
      "cell_type": "code",
      "metadata": {
        "id": "IEN94uSK-pMX"
      },
      "source": [
        "torch.unique(fram_obj_train['mask'][1])"
      ],
      "execution_count": null,
      "outputs": []
    },
    {
      "cell_type": "markdown",
      "metadata": {
        "id": "2dWt53kwXCVG"
      },
      "source": [
        "# Prepare Model"
      ]
    },
    {
      "cell_type": "code",
      "metadata": {
        "id": "urpOlFZi-sWq"
      },
      "source": [
        "def Conv2dBlock(inputTensor, num_filters, kernel_size=3, batch_norm=True):\n",
        "    # first Conv\n",
        "    x = tf.keras.layers.Conv2D(filters=num_filters, \n",
        "        kernel_size=(kernel_size, kernel_size),\n",
        "        kernel_initializer='he_normal', padding='same', \n",
        "        input_shape=inputTensor) (inputTensor) #, input_shape=inputTensor[1:]\n",
        "    if batch_norm:\n",
        "        x = tf.keras.layers.BatchNormalization()(x)\n",
        "    x = tf.keras.layers.Activation('relu')(x)\n",
        "    # second Conv\n",
        "    x = tf.keras.layers.Conv2D(filters=num_filters, \n",
        "        kernel_size=(kernel_size, kernel_size),\n",
        "        kernel_initializer='he_normal', padding='same')(x)\n",
        "    if batch_norm:\n",
        "        x = tf.keras.layers.BatchNormalization()(x)\n",
        "    x = tf.keras.layers.Activation('relu')(x)\n",
        "    return x"
      ],
      "execution_count": null,
      "outputs": []
    },
    {
      "cell_type": "code",
      "metadata": {
        "id": "njs3fPjg-uQj"
      },
      "source": [
        "def build_unet(input_image, num_filters=16, dropouts=0.1, batch_norm=True):\n",
        "    c1 = Conv2dBlock(input_image, num_filters * 1, kernel_size=3, batch_norm=batch_norm)\n",
        "    p1 = tf.keras.layers.MaxPooling2D((2,2))(c1)\n",
        "    p1 = tf.keras.layers.Dropout(dropouts)(p1)\n",
        "\n",
        "    c2 = Conv2dBlock(p1, num_filters * 2, kernel_size=3, batch_norm=batch_norm)\n",
        "    p2 = tf.keras.layers.MaxPooling2D((2,2))(c2)\n",
        "    p2 = tf.keras.layers.Dropout(dropouts)(p2)\n",
        "\n",
        "    c3 = Conv2dBlock(p2, num_filters * 4, kernel_size=3, batch_norm=batch_norm)\n",
        "    p3 = tf.keras.layers.MaxPooling2D((2,2))(c3)\n",
        "    p3 = tf.keras.layers.Dropout(dropouts)(p3)\n",
        "\n",
        "    c4 = Conv2dBlock(p3, num_filters * 8, kernel_size=3, batch_norm=batch_norm)\n",
        "    p4 = tf.keras.layers.MaxPooling2D((2,2))(c4)\n",
        "    p4 = tf.keras.layers.Dropout(dropouts)(p4)\n",
        "\n",
        "    c5 = Conv2dBlock(p4, num_filters * 16, kernel_size=3, batch_norm=batch_norm)\n",
        "\n",
        "    u6 = tf.keras.layers.Conv2DTranspose(num_filters * 8, (3,3), strides=(2,2), padding='same')(c5)\n",
        "    u6 = tf.keras.layers.concatenate([u6, c4])\n",
        "    u6 = tf.keras.layers.Dropout(dropouts)(u6)\n",
        "    c6 = Conv2dBlock(u6, num_filters * 8, kernel_size=3, batch_norm=batch_norm)\n",
        "\n",
        "    u7 = tf.keras.layers.Conv2DTranspose(num_filters * 4, (3,3), strides=(2,2), padding='same')(c6)\n",
        "    u7 = tf.keras.layers.concatenate([u7, c3])\n",
        "    u7 = tf.keras.layers.Dropout(dropouts)(u7)\n",
        "    c7 = Conv2dBlock(u7, num_filters * 4, kernel_size=3, batch_norm=batch_norm)\n",
        "\n",
        "    u8 = tf.keras.layers.Conv2DTranspose(num_filters * 2, (3,3), strides=(2,2), padding='same')(c7)\n",
        "    u8 = tf.keras.layers.concatenate([u8, c2])\n",
        "    u8 = tf.keras.layers.Dropout(dropouts)(u8)\n",
        "    c8 = Conv2dBlock(u8, num_filters * 2, kernel_size=3, batch_norm=batch_norm)\n",
        "\n",
        "    u9 = tf.keras.layers.Conv2DTranspose(num_filters * 1, (3,3), strides=(2,2), padding='same')(c8)\n",
        "    u9 = tf.keras.layers.concatenate([u9, c1])\n",
        "    u9 = tf.keras.layers.Dropout(dropouts)(u9)\n",
        "    c9 = Conv2dBlock(u9, num_filters * 1, kernel_size=3, batch_norm=batch_norm)\n",
        "\n",
        "    output = tf.keras.layers.Conv2D(1, (1,1), activation='sigmoid')(c9)\n",
        "    model = tf.keras.Model(inputs=[input_image], outputs=[output])\n",
        "    return model"
      ],
      "execution_count": null,
      "outputs": []
    },
    {
      "cell_type": "markdown",
      "metadata": {
        "id": "DJHvox4y-xlo"
      },
      "source": [
        "# Compile Model"
      ]
    },
    {
      "cell_type": "code",
      "metadata": {
        "id": "3rCjseegqPrO"
      },
      "source": [
        "# learning rate 0.1\n",
        "optimizer = tf.keras.optimizers.Adam(0.01)"
      ],
      "execution_count": null,
      "outputs": []
    },
    {
      "cell_type": "code",
      "metadata": {
        "id": "UK2igGFY-v7K"
      },
      "source": [
        "# inputs = tf.keras.layers.Input(shape=(256, 256, 3))\n",
        "inputs = tf.keras.layers.Input(shape=(256, 256, 3), batch_size=32)\n",
        "model = build_unet(inputs, dropouts=0.07)\n",
        "model.compile(\n",
        "    # optimizer='Adam', \n",
        "    optimizer=optimizer,\n",
        "    # loss=tf.keras.losses.CategoricalCrossentropy(), \n",
        "    # loss='categorical_crossentropy',\n",
        "    loss='sparse_categorical_crossentropy',\n",
        "    metrics=['accuracy'])"
      ],
      "execution_count": null,
      "outputs": []
    },
    {
      "cell_type": "code",
      "metadata": {
        "id": "4R5b0JXu-w3G",
        "colab": {
          "base_uri": "https://localhost:8080/"
        },
        "outputId": "ee680450-017a-41d1-e7c5-4634db26fc0e"
      },
      "source": [
        "model.summary()"
      ],
      "execution_count": null,
      "outputs": [
        {
          "output_type": "stream",
          "text": [
            "Model: \"model\"\n",
            "__________________________________________________________________________________________________\n",
            "Layer (type)                    Output Shape         Param #     Connected to                     \n",
            "==================================================================================================\n",
            "input_1 (InputLayer)            [(32, 256, 256, 3)]  0                                            \n",
            "__________________________________________________________________________________________________\n",
            "conv2d (Conv2D)                 (32, 256, 256, 16)   448         input_1[0][0]                    \n",
            "__________________________________________________________________________________________________\n",
            "batch_normalization (BatchNorma (32, 256, 256, 16)   64          conv2d[0][0]                     \n",
            "__________________________________________________________________________________________________\n",
            "activation (Activation)         (32, 256, 256, 16)   0           batch_normalization[0][0]        \n",
            "__________________________________________________________________________________________________\n",
            "conv2d_1 (Conv2D)               (32, 256, 256, 16)   2320        activation[0][0]                 \n",
            "__________________________________________________________________________________________________\n",
            "batch_normalization_1 (BatchNor (32, 256, 256, 16)   64          conv2d_1[0][0]                   \n",
            "__________________________________________________________________________________________________\n",
            "activation_1 (Activation)       (32, 256, 256, 16)   0           batch_normalization_1[0][0]      \n",
            "__________________________________________________________________________________________________\n",
            "max_pooling2d (MaxPooling2D)    (32, 128, 128, 16)   0           activation_1[0][0]               \n",
            "__________________________________________________________________________________________________\n",
            "dropout (Dropout)               (32, 128, 128, 16)   0           max_pooling2d[0][0]              \n",
            "__________________________________________________________________________________________________\n",
            "conv2d_2 (Conv2D)               (32, 128, 128, 32)   4640        dropout[0][0]                    \n",
            "__________________________________________________________________________________________________\n",
            "batch_normalization_2 (BatchNor (32, 128, 128, 32)   128         conv2d_2[0][0]                   \n",
            "__________________________________________________________________________________________________\n",
            "activation_2 (Activation)       (32, 128, 128, 32)   0           batch_normalization_2[0][0]      \n",
            "__________________________________________________________________________________________________\n",
            "conv2d_3 (Conv2D)               (32, 128, 128, 32)   9248        activation_2[0][0]               \n",
            "__________________________________________________________________________________________________\n",
            "batch_normalization_3 (BatchNor (32, 128, 128, 32)   128         conv2d_3[0][0]                   \n",
            "__________________________________________________________________________________________________\n",
            "activation_3 (Activation)       (32, 128, 128, 32)   0           batch_normalization_3[0][0]      \n",
            "__________________________________________________________________________________________________\n",
            "max_pooling2d_1 (MaxPooling2D)  (32, 64, 64, 32)     0           activation_3[0][0]               \n",
            "__________________________________________________________________________________________________\n",
            "dropout_1 (Dropout)             (32, 64, 64, 32)     0           max_pooling2d_1[0][0]            \n",
            "__________________________________________________________________________________________________\n",
            "conv2d_4 (Conv2D)               (32, 64, 64, 64)     18496       dropout_1[0][0]                  \n",
            "__________________________________________________________________________________________________\n",
            "batch_normalization_4 (BatchNor (32, 64, 64, 64)     256         conv2d_4[0][0]                   \n",
            "__________________________________________________________________________________________________\n",
            "activation_4 (Activation)       (32, 64, 64, 64)     0           batch_normalization_4[0][0]      \n",
            "__________________________________________________________________________________________________\n",
            "conv2d_5 (Conv2D)               (32, 64, 64, 64)     36928       activation_4[0][0]               \n",
            "__________________________________________________________________________________________________\n",
            "batch_normalization_5 (BatchNor (32, 64, 64, 64)     256         conv2d_5[0][0]                   \n",
            "__________________________________________________________________________________________________\n",
            "activation_5 (Activation)       (32, 64, 64, 64)     0           batch_normalization_5[0][0]      \n",
            "__________________________________________________________________________________________________\n",
            "max_pooling2d_2 (MaxPooling2D)  (32, 32, 32, 64)     0           activation_5[0][0]               \n",
            "__________________________________________________________________________________________________\n",
            "dropout_2 (Dropout)             (32, 32, 32, 64)     0           max_pooling2d_2[0][0]            \n",
            "__________________________________________________________________________________________________\n",
            "conv2d_6 (Conv2D)               (32, 32, 32, 128)    73856       dropout_2[0][0]                  \n",
            "__________________________________________________________________________________________________\n",
            "batch_normalization_6 (BatchNor (32, 32, 32, 128)    512         conv2d_6[0][0]                   \n",
            "__________________________________________________________________________________________________\n",
            "activation_6 (Activation)       (32, 32, 32, 128)    0           batch_normalization_6[0][0]      \n",
            "__________________________________________________________________________________________________\n",
            "conv2d_7 (Conv2D)               (32, 32, 32, 128)    147584      activation_6[0][0]               \n",
            "__________________________________________________________________________________________________\n",
            "batch_normalization_7 (BatchNor (32, 32, 32, 128)    512         conv2d_7[0][0]                   \n",
            "__________________________________________________________________________________________________\n",
            "activation_7 (Activation)       (32, 32, 32, 128)    0           batch_normalization_7[0][0]      \n",
            "__________________________________________________________________________________________________\n",
            "max_pooling2d_3 (MaxPooling2D)  (32, 16, 16, 128)    0           activation_7[0][0]               \n",
            "__________________________________________________________________________________________________\n",
            "dropout_3 (Dropout)             (32, 16, 16, 128)    0           max_pooling2d_3[0][0]            \n",
            "__________________________________________________________________________________________________\n",
            "conv2d_8 (Conv2D)               (32, 16, 16, 256)    295168      dropout_3[0][0]                  \n",
            "__________________________________________________________________________________________________\n",
            "batch_normalization_8 (BatchNor (32, 16, 16, 256)    1024        conv2d_8[0][0]                   \n",
            "__________________________________________________________________________________________________\n",
            "activation_8 (Activation)       (32, 16, 16, 256)    0           batch_normalization_8[0][0]      \n",
            "__________________________________________________________________________________________________\n",
            "conv2d_9 (Conv2D)               (32, 16, 16, 256)    590080      activation_8[0][0]               \n",
            "__________________________________________________________________________________________________\n",
            "batch_normalization_9 (BatchNor (32, 16, 16, 256)    1024        conv2d_9[0][0]                   \n",
            "__________________________________________________________________________________________________\n",
            "activation_9 (Activation)       (32, 16, 16, 256)    0           batch_normalization_9[0][0]      \n",
            "__________________________________________________________________________________________________\n",
            "conv2d_transpose (Conv2DTranspo (32, 32, 32, 128)    295040      activation_9[0][0]               \n",
            "__________________________________________________________________________________________________\n",
            "concatenate (Concatenate)       (32, 32, 32, 256)    0           conv2d_transpose[0][0]           \n",
            "                                                                 activation_7[0][0]               \n",
            "__________________________________________________________________________________________________\n",
            "dropout_4 (Dropout)             (32, 32, 32, 256)    0           concatenate[0][0]                \n",
            "__________________________________________________________________________________________________\n",
            "conv2d_10 (Conv2D)              (32, 32, 32, 128)    295040      dropout_4[0][0]                  \n",
            "__________________________________________________________________________________________________\n",
            "batch_normalization_10 (BatchNo (32, 32, 32, 128)    512         conv2d_10[0][0]                  \n",
            "__________________________________________________________________________________________________\n",
            "activation_10 (Activation)      (32, 32, 32, 128)    0           batch_normalization_10[0][0]     \n",
            "__________________________________________________________________________________________________\n",
            "conv2d_11 (Conv2D)              (32, 32, 32, 128)    147584      activation_10[0][0]              \n",
            "__________________________________________________________________________________________________\n",
            "batch_normalization_11 (BatchNo (32, 32, 32, 128)    512         conv2d_11[0][0]                  \n",
            "__________________________________________________________________________________________________\n",
            "activation_11 (Activation)      (32, 32, 32, 128)    0           batch_normalization_11[0][0]     \n",
            "__________________________________________________________________________________________________\n",
            "conv2d_transpose_1 (Conv2DTrans (32, 64, 64, 64)     73792       activation_11[0][0]              \n",
            "__________________________________________________________________________________________________\n",
            "concatenate_1 (Concatenate)     (32, 64, 64, 128)    0           conv2d_transpose_1[0][0]         \n",
            "                                                                 activation_5[0][0]               \n",
            "__________________________________________________________________________________________________\n",
            "dropout_5 (Dropout)             (32, 64, 64, 128)    0           concatenate_1[0][0]              \n",
            "__________________________________________________________________________________________________\n",
            "conv2d_12 (Conv2D)              (32, 64, 64, 64)     73792       dropout_5[0][0]                  \n",
            "__________________________________________________________________________________________________\n",
            "batch_normalization_12 (BatchNo (32, 64, 64, 64)     256         conv2d_12[0][0]                  \n",
            "__________________________________________________________________________________________________\n",
            "activation_12 (Activation)      (32, 64, 64, 64)     0           batch_normalization_12[0][0]     \n",
            "__________________________________________________________________________________________________\n",
            "conv2d_13 (Conv2D)              (32, 64, 64, 64)     36928       activation_12[0][0]              \n",
            "__________________________________________________________________________________________________\n",
            "batch_normalization_13 (BatchNo (32, 64, 64, 64)     256         conv2d_13[0][0]                  \n",
            "__________________________________________________________________________________________________\n",
            "activation_13 (Activation)      (32, 64, 64, 64)     0           batch_normalization_13[0][0]     \n",
            "__________________________________________________________________________________________________\n",
            "conv2d_transpose_2 (Conv2DTrans (32, 128, 128, 32)   18464       activation_13[0][0]              \n",
            "__________________________________________________________________________________________________\n",
            "concatenate_2 (Concatenate)     (32, 128, 128, 64)   0           conv2d_transpose_2[0][0]         \n",
            "                                                                 activation_3[0][0]               \n",
            "__________________________________________________________________________________________________\n",
            "dropout_6 (Dropout)             (32, 128, 128, 64)   0           concatenate_2[0][0]              \n",
            "__________________________________________________________________________________________________\n",
            "conv2d_14 (Conv2D)              (32, 128, 128, 32)   18464       dropout_6[0][0]                  \n",
            "__________________________________________________________________________________________________\n",
            "batch_normalization_14 (BatchNo (32, 128, 128, 32)   128         conv2d_14[0][0]                  \n",
            "__________________________________________________________________________________________________\n",
            "activation_14 (Activation)      (32, 128, 128, 32)   0           batch_normalization_14[0][0]     \n",
            "__________________________________________________________________________________________________\n",
            "conv2d_15 (Conv2D)              (32, 128, 128, 32)   9248        activation_14[0][0]              \n",
            "__________________________________________________________________________________________________\n",
            "batch_normalization_15 (BatchNo (32, 128, 128, 32)   128         conv2d_15[0][0]                  \n",
            "__________________________________________________________________________________________________\n",
            "activation_15 (Activation)      (32, 128, 128, 32)   0           batch_normalization_15[0][0]     \n",
            "__________________________________________________________________________________________________\n",
            "conv2d_transpose_3 (Conv2DTrans (32, 256, 256, 16)   4624        activation_15[0][0]              \n",
            "__________________________________________________________________________________________________\n",
            "concatenate_3 (Concatenate)     (32, 256, 256, 32)   0           conv2d_transpose_3[0][0]         \n",
            "                                                                 activation_1[0][0]               \n",
            "__________________________________________________________________________________________________\n",
            "dropout_7 (Dropout)             (32, 256, 256, 32)   0           concatenate_3[0][0]              \n",
            "__________________________________________________________________________________________________\n",
            "conv2d_16 (Conv2D)              (32, 256, 256, 16)   4624        dropout_7[0][0]                  \n",
            "__________________________________________________________________________________________________\n",
            "batch_normalization_16 (BatchNo (32, 256, 256, 16)   64          conv2d_16[0][0]                  \n",
            "__________________________________________________________________________________________________\n",
            "activation_16 (Activation)      (32, 256, 256, 16)   0           batch_normalization_16[0][0]     \n",
            "__________________________________________________________________________________________________\n",
            "conv2d_17 (Conv2D)              (32, 256, 256, 16)   2320        activation_16[0][0]              \n",
            "__________________________________________________________________________________________________\n",
            "batch_normalization_17 (BatchNo (32, 256, 256, 16)   64          conv2d_17[0][0]                  \n",
            "__________________________________________________________________________________________________\n",
            "activation_17 (Activation)      (32, 256, 256, 16)   0           batch_normalization_17[0][0]     \n",
            "__________________________________________________________________________________________________\n",
            "conv2d_18 (Conv2D)              (32, 256, 256, 1)    17          activation_17[0][0]              \n",
            "==================================================================================================\n",
            "Total params: 2,164,593\n",
            "Trainable params: 2,161,649\n",
            "Non-trainable params: 2,944\n",
            "__________________________________________________________________________________________________\n"
          ],
          "name": "stdout"
        }
      ]
    },
    {
      "cell_type": "markdown",
      "metadata": {
        "id": "UuewAPWgax22"
      },
      "source": [
        "# Split"
      ]
    },
    {
      "cell_type": "code",
      "metadata": {
        "id": "nTAeNQnMZ1d2"
      },
      "source": [
        "# len(fram_obj_train['img']) * 0.1235 / 32\n",
        "split = 32 * 20"
      ],
      "execution_count": null,
      "outputs": []
    },
    {
      "cell_type": "code",
      "metadata": {
        "id": "ZUlgm599DGYd"
      },
      "source": [
        "x_train = fram_obj_train['img'][:split]\n",
        "y_train = fram_obj_train['mask'][:split]\n",
        "x_val = fram_obj_train['img'][split:]\n",
        "y_val = fram_obj_train['mask'][split:]"
      ],
      "execution_count": null,
      "outputs": []
    },
    {
      "cell_type": "markdown",
      "metadata": {
        "id": "Fdbbws18-znc"
      },
      "source": [
        "# Train"
      ]
    },
    {
      "cell_type": "code",
      "metadata": {
        "colab": {
          "base_uri": "https://localhost:8080/"
        },
        "id": "DhEoGyHocAil",
        "outputId": "78fe3cd5-63ec-44c6-b9b0-e30dfee81afa"
      },
      "source": [
        "history = model.fit(np.array(x_train), np.array(y_train), epochs=10, verbose=1,)"
      ],
      "execution_count": null,
      "outputs": [
        {
          "output_type": "stream",
          "text": [
            "Epoch 1/10\n",
            "20/20 [==============================] - 45s 359ms/step - loss: 137.4321 - accuracy: 0.5393\n",
            "Epoch 2/10\n",
            "20/20 [==============================] - 7s 362ms/step - loss: 122.0729 - accuracy: 0.6863\n",
            "Epoch 3/10\n",
            "20/20 [==============================] - 7s 363ms/step - loss: 119.6230 - accuracy: 0.7618\n",
            "Epoch 4/10\n",
            "20/20 [==============================] - 7s 366ms/step - loss: 121.5770 - accuracy: 0.8175\n",
            "Epoch 5/10\n",
            "20/20 [==============================] - 7s 368ms/step - loss: 124.7633 - accuracy: 0.8280\n",
            "Epoch 6/10\n",
            "20/20 [==============================] - 7s 371ms/step - loss: 123.0097 - accuracy: 0.8627\n",
            "Epoch 7/10\n",
            "20/20 [==============================] - 7s 372ms/step - loss: 130.8935 - accuracy: 0.8719\n",
            "Epoch 8/10\n",
            "20/20 [==============================] - 7s 374ms/step - loss: 124.1474 - accuracy: 0.9036\n",
            "Epoch 9/10\n",
            "20/20 [==============================] - 8s 380ms/step - loss: 118.7322 - accuracy: 0.8971\n",
            "Epoch 10/10\n",
            "20/20 [==============================] - 8s 383ms/step - loss: 122.0562 - accuracy: 0.9084\n"
          ],
          "name": "stdout"
        }
      ]
    },
    {
      "cell_type": "code",
      "metadata": {
        "colab": {
          "base_uri": "https://localhost:8080/"
        },
        "id": "iyJu9I70-2rM",
        "outputId": "5953a77e-d0cb-4c5f-e046-0ac1f9a66837"
      },
      "source": [
        "history = model.fit(np.array(x_train), np.array(y_train), epochs=10, verbose=1,)"
      ],
      "execution_count": null,
      "outputs": [
        {
          "output_type": "stream",
          "text": [
            "Epoch 1/10\n",
            "20/20 [==============================] - 9s 357ms/step - loss: 131.0905 - accuracy: 0.7035\n",
            "Epoch 2/10\n",
            "20/20 [==============================] - 7s 358ms/step - loss: 124.3280 - accuracy: 0.6766\n",
            "Epoch 3/10\n",
            "20/20 [==============================] - 7s 363ms/step - loss: 118.0156 - accuracy: 0.6901\n",
            "Epoch 4/10\n",
            "20/20 [==============================] - 7s 362ms/step - loss: 120.5051 - accuracy: 0.6782\n",
            "Epoch 5/10\n",
            "20/20 [==============================] - 7s 362ms/step - loss: 120.1970 - accuracy: 0.6941\n",
            "Epoch 6/10\n",
            "20/20 [==============================] - 7s 365ms/step - loss: 116.1013 - accuracy: 0.7032\n",
            "Epoch 7/10\n",
            "20/20 [==============================] - 7s 368ms/step - loss: 118.4206 - accuracy: 0.7297\n",
            "Epoch 8/10\n",
            "20/20 [==============================] - 7s 367ms/step - loss: 116.5217 - accuracy: 0.7219\n",
            "Epoch 9/10\n",
            "20/20 [==============================] - 7s 367ms/step - loss: 122.3029 - accuracy: 0.7589\n",
            "Epoch 10/10\n",
            "20/20 [==============================] - 7s 370ms/step - loss: 116.5324 - accuracy: 0.7338\n"
          ],
          "name": "stdout"
        }
      ]
    },
    {
      "cell_type": "code",
      "metadata": {
        "id": "Yanu5cW0-3vA",
        "colab": {
          "base_uri": "https://localhost:8080/",
          "height": 264
        },
        "outputId": "8bca1b16-e6fd-4ac0-e3bb-405e8a0722cb"
      },
      "source": [
        "plt.plot(history.history['loss'], label='training_loss')\n",
        "plt.plot(history.history['accuracy'], label='training_accuracy')\n",
        "plt.legend()\n",
        "plt.grid(True)"
      ],
      "execution_count": null,
      "outputs": [
        {
          "output_type": "display_data",
          "data": {
            "image/png": "[encoded data removed]",
            "text/plain": [
              "<Figure size 432x288 with 1 Axes>"
            ]
          },
          "metadata": {
            "tags": [],
            "needs_background": "light"
          }
        }
      ]
    },
    {
      "cell_type": "code",
      "metadata": {
        "colab": {
          "base_uri": "https://localhost:8080/",
          "height": 406
        },
        "id": "Kwmk05nqc4wU",
        "outputId": "c15fc06f-1e99-4a41-fb39-a1c25a4d519a"
      },
      "source": [
        "plt.figure(figsize=(14,6))\n",
        "plt.subplot(1,2,1)\n",
        "plt.plot(history.history['loss'])\n",
        "plt.title('loss')\n",
        "plt.subplot(1,2,2)\n",
        "plt.plot(history.history['accuracy'])\n",
        "plt.title('accuracy')"
      ],
      "execution_count": null,
      "outputs": [
        {
          "output_type": "execute_result",
          "data": {
            "text/plain": [
              "Text(0.5, 1.0, 'accuracy')"
            ]
          },
          "metadata": {
            "tags": []
          },
          "execution_count": 50
        },
        {
          "output_type": "display_data",
          "data": {
            "image/png": "[encoded data removed]",
            "text/plain": [
              "<Figure size 1008x432 with 2 Axes>"
            ]
          },
          "metadata": {
            "tags": [],
            "needs_background": "light"
          }
        }
      ]
    },
    {
      "cell_type": "markdown",
      "metadata": {
        "id": "bFtkKQDeRcOx"
      },
      "source": [
        "# Testing"
      ]
    },
    {
      "cell_type": "code",
      "metadata": {
        "id": "llRXqn7zRgEk"
      },
      "source": [
        "def predict16(valid_m, model, shape=256):\n",
        "  img = valid_m['img'][0:32]\n",
        "  mask = valid_m['mask'][0:32]\n",
        "  img_proc = img[0:32]\n",
        "  img_proc = np.array(img)\n",
        "  preds = model.predict(img_proc)\n",
        "  return preds, img_proc, mask\n",
        "\n",
        "def Plotter(img, pred_mask, ground_through):\n",
        "  plt.figure(figsize=(9,9))\n",
        "  plt.subplot(1,3,1)\n",
        "  plt.imshow(img)\n",
        "  plt.title(' image')\n",
        "  plt.subplot(1,3,2)\n",
        "  plt.imshow(pred_mask)\n",
        "  plt.title('Predicted mask')\n",
        "  plt.subplot(1,3,3)\n",
        "  plt.imshow(ground_through)\n",
        "  plt.title('Actual mask')"
      ],
      "execution_count": null,
      "outputs": []
    },
    {
      "cell_type": "code",
      "metadata": {
        "id": "p-TVOY6sSiN5"
      },
      "source": [
        "predictions, actuals, masks = predict16(fram_obj_train, model)"
      ],
      "execution_count": null,
      "outputs": []
    },
    {
      "cell_type": "code",
      "metadata": {
        "colab": {
          "base_uri": "https://localhost:8080/",
          "height": 212
        },
        "id": "TAnNbWy1S22P",
        "outputId": "18914069-ef75-492c-82d3-5095e54a4dd9"
      },
      "source": [
        "Plotter(actuals[1], predictions[1][:,:,0], masks[1])"
      ],
      "execution_count": null,
      "outputs": [
        {
          "output_type": "display_data",
          "data": {
            "image/png": "[encoded data removed]",
            "text/plain": [
              "<Figure size 648x648 with 3 Axes>"
            ]
          },
          "metadata": {
            "tags": [],
            "needs_background": "light"
          }
        }
      ]
    },
    {
      "cell_type": "markdown",
      "metadata": {
        "id": "Jdjsvpgqd0QS"
      },
      "source": [
        "# Hyperparameter tuner"
      ]
    },
    {
      "cell_type": "code",
      "metadata": {
        "colab": {
          "base_uri": "https://localhost:8080/"
        },
        "id": "iwhjgE_j70SD",
        "outputId": "a3a5908f-9624-42bb-f310-6630ee154278"
      },
      "source": [
        "base_model = tf.keras.applications.MobileNetV2(input_shape=[256, 256, 3], include_top=False)\n",
        "\n",
        "# Use the activations of these layers\n",
        "layer_names = [\n",
        "    'block_1_expand_relu',   # 128x128\n",
        "    'block_3_expand_relu',   # 64x64\n",
        "    'block_6_expand_relu',   # 32x32\n",
        "    'block_13_expand_relu',  # 16x16\n",
        "    'block_16_project',      # 8x8\n",
        "]\n",
        "base_model_outputs = [base_model.get_layer(name).output for name in layer_names]\n",
        "\n",
        "# Create the feature extraction model\n",
        "down_stack = tf.keras.Model(inputs=base_model.input, outputs=base_model_outputs)\n",
        "\n",
        "down_stack.trainable = False"
      ],
      "execution_count": null,
      "outputs": [
        {
          "output_type": "stream",
          "text": [
            "WARNING:tensorflow:`input_shape` is undefined or non-square, or `rows` is not in [96, 128, 160, 192, 224]. Weights for input shape (224, 224) will be loaded as the default.\n"
          ],
          "name": "stdout"
        }
      ]
    },
    {
      "cell_type": "code",
      "metadata": {
        "id": "tm2poU4C8wGQ"
      },
      "source": [
        "up_stack = [\n",
        "    pix2pix.upsample(512, 3),  # 4x4 -> 8x8\n",
        "    pix2pix.upsample(256, 3),  # 8x8 -> 16x16\n",
        "    pix2pix.upsample(128, 3),  # 16x16 -> 32x32\n",
        "    pix2pix.upsample(64, 3),   # 32x32 -> 64x64\n",
        "]"
      ],
      "execution_count": null,
      "outputs": []
    },
    {
      "cell_type": "code",
      "metadata": {
        "id": "X7GuLXosuUV7"
      },
      "source": [
        "def u(\n",
        "    input_size=(256, 256, 3),\n",
        "    start_neurons=64,\n",
        "    net_depth=4,\n",
        "    output_classes=1,\n",
        "    dropout=False,\n",
        "    bn_after_act=False,\n",
        "    activation='mish',\n",
        "    pretrained_weights=None,\n",
        "    output_channels=3\n",
        "):\n",
        "  inputs = tf.keras.layers.Input(shape=list(input_size))\n",
        "\n",
        "  # Downsampling through the model\n",
        "  skips = down_stack(inputs)\n",
        "  x = skips[-1]\n",
        "  skips = reversed(skips[:-1])\n",
        "\n",
        "  # Upsampling and establishing the skip connections\n",
        "  for up, skip in zip(up_stack, skips):\n",
        "    x = up(x)\n",
        "    concat = tf.keras.layers.Concatenate()\n",
        "    x = concat([x, skip])\n",
        "\n",
        "  # This is the last layer of the model\n",
        "  last = tf.keras.layers.Conv2DTranspose(\n",
        "      output_channels, 3, strides=2,\n",
        "      padding='same')  #64x64 -> 128x128\n",
        "\n",
        "  x = last(x)\n",
        "\n",
        "  return tf.keras.Model(inputs=inputs, outputs=x)"
      ],
      "execution_count": null,
      "outputs": []
    },
    {
      "cell_type": "code",
      "metadata": {
        "id": "Nkpm1Fund2qa"
      },
      "source": [
        "def model_builder(hp):    \n",
        "    start_neurons = hp.Int(name = 'start_neurons', \n",
        "                           min_value = 16, \n",
        "                           max_value = 128, \n",
        "                           step = 16)\n",
        "    net_depth = hp.Int(name = 'net_depth', min_value = 2, max_value = 6)\n",
        "    dropout = hp.Boolean(name = 'dropout', default = False)\n",
        "    bn_after_act = hp.Boolean(name = 'bn_after_act', default = False)\n",
        "    activation = hp.Choice(name = 'activation', \n",
        "                           values = ['mish', 'elu', 'lrelu'], \n",
        "                           ordered = False)\n",
        "    \n",
        "    input_size = (256,256,3)\n",
        "    target_labels = [str(i) for i in range(2)]\n",
        "\n",
        "    model = u(input_size = input_size,\n",
        "              start_neurons = start_neurons,\n",
        "              net_depth = net_depth,\n",
        "              output_classes = len(target_labels),\n",
        "              dropout = dropout,\n",
        "              bn_after_act = bn_after_act,\n",
        "              activation = activation)\n",
        "  \n",
        "    model.compile(optimizer = tf.keras.optimizers.Adam(lr = 1e-3),\n",
        "                  # loss = weighted_cross_entropy,\n",
        "                  loss=tf.keras.losses.SparseCategoricalCrossentropy(from_logits=True),\n",
        "                  metrics = [f1, precision, recall, iou])\n",
        "    \n",
        "    return model"
      ],
      "execution_count": null,
      "outputs": []
    },
    {
      "cell_type": "code",
      "metadata": {
        "colab": {
          "base_uri": "https://localhost:8080/",
          "height": 1000
        },
        "id": "03gLRn3Srj6K",
        "outputId": "d77c7597-300e-46af-b0c8-5a2a6e8c70b0"
      },
      "source": [
        "tuner = kt.Hyperband(hypermodel = model_builder,\n",
        "                     objective = kt.Objective(\"val_f1\", direction=\"max\"),\n",
        "                     max_epochs = 20,\n",
        "\t\t\t\t\t project_name='hyperband_tuner')"
      ],
      "execution_count": null,
      "outputs": [
        {
          "output_type": "stream",
          "text": [
            "Traceback (most recent call last):\n",
            "  File \"/usr/local/lib/python3.7/dist-packages/kerastuner/engine/hypermodel.py\", line 104, in build\n",
            "    model = self.hypermodel.build(hp)\n",
            "  File \"<ipython-input-42-7ddc325ba563>\", line 32, in model_builder\n",
            "    metrics = [f1, precision, recall, iou])\n",
            "NameError: name 'f1' is not defined\n"
          ],
          "name": "stderr"
        },
        {
          "output_type": "stream",
          "text": [
            "Invalid model 0/5\n"
          ],
          "name": "stdout"
        },
        {
          "output_type": "stream",
          "text": [
            "Traceback (most recent call last):\n",
            "  File \"/usr/local/lib/python3.7/dist-packages/kerastuner/engine/hypermodel.py\", line 104, in build\n",
            "    model = self.hypermodel.build(hp)\n",
            "  File \"<ipython-input-42-7ddc325ba563>\", line 32, in model_builder\n",
            "    metrics = [f1, precision, recall, iou])\n",
            "NameError: name 'f1' is not defined\n"
          ],
          "name": "stderr"
        },
        {
          "output_type": "stream",
          "text": [
            "Invalid model 1/5\n"
          ],
          "name": "stdout"
        },
        {
          "output_type": "stream",
          "text": [
            "Traceback (most recent call last):\n",
            "  File \"/usr/local/lib/python3.7/dist-packages/kerastuner/engine/hypermodel.py\", line 104, in build\n",
            "    model = self.hypermodel.build(hp)\n",
            "  File \"<ipython-input-42-7ddc325ba563>\", line 32, in model_builder\n",
            "    metrics = [f1, precision, recall, iou])\n",
            "NameError: name 'f1' is not defined\n"
          ],
          "name": "stderr"
        },
        {
          "output_type": "stream",
          "text": [
            "Invalid model 2/5\n"
          ],
          "name": "stdout"
        },
        {
          "output_type": "stream",
          "text": [
            "Traceback (most recent call last):\n",
            "  File \"/usr/local/lib/python3.7/dist-packages/kerastuner/engine/hypermodel.py\", line 104, in build\n",
            "    model = self.hypermodel.build(hp)\n",
            "  File \"<ipython-input-42-7ddc325ba563>\", line 32, in model_builder\n",
            "    metrics = [f1, precision, recall, iou])\n",
            "NameError: name 'f1' is not defined\n"
          ],
          "name": "stderr"
        },
        {
          "output_type": "stream",
          "text": [
            "Invalid model 3/5\n"
          ],
          "name": "stdout"
        },
        {
          "output_type": "stream",
          "text": [
            "Traceback (most recent call last):\n",
            "  File \"/usr/local/lib/python3.7/dist-packages/kerastuner/engine/hypermodel.py\", line 104, in build\n",
            "    model = self.hypermodel.build(hp)\n",
            "  File \"<ipython-input-42-7ddc325ba563>\", line 32, in model_builder\n",
            "    metrics = [f1, precision, recall, iou])\n",
            "NameError: name 'f1' is not defined\n"
          ],
          "name": "stderr"
        },
        {
          "output_type": "stream",
          "text": [
            "Invalid model 4/5\n",
            "Invalid model 5/5\n"
          ],
          "name": "stdout"
        },
        {
          "output_type": "stream",
          "text": [
            "Traceback (most recent call last):\n",
            "  File \"/usr/local/lib/python3.7/dist-packages/kerastuner/engine/hypermodel.py\", line 104, in build\n",
            "    model = self.hypermodel.build(hp)\n",
            "  File \"<ipython-input-42-7ddc325ba563>\", line 32, in model_builder\n",
            "    metrics = [f1, precision, recall, iou])\n",
            "NameError: name 'f1' is not defined\n"
          ],
          "name": "stderr"
        },
        {
          "output_type": "error",
          "ename": "RuntimeError",
          "evalue": "ignored",
          "traceback": [
            "\u001b[0;31m---------------------------------------------------------------------------\u001b[0m",
            "\u001b[0;31mNameError\u001b[0m                                 Traceback (most recent call last)",
            "\u001b[0;32m/usr/local/lib/python3.7/dist-packages/kerastuner/engine/hypermodel.py\u001b[0m in \u001b[0;36mbuild\u001b[0;34m(self, hp)\u001b[0m\n\u001b[1;32m    103\u001b[0m                 \u001b[0;32mwith\u001b[0m \u001b[0mmaybe_distribute\u001b[0m\u001b[0;34m(\u001b[0m\u001b[0mself\u001b[0m\u001b[0;34m.\u001b[0m\u001b[0mdistribution_strategy\u001b[0m\u001b[0;34m)\u001b[0m\u001b[0;34m:\u001b[0m\u001b[0;34m\u001b[0m\u001b[0;34m\u001b[0m\u001b[0m\n\u001b[0;32m--> 104\u001b[0;31m                     \u001b[0mmodel\u001b[0m \u001b[0;34m=\u001b[0m \u001b[0mself\u001b[0m\u001b[0;34m.\u001b[0m\u001b[0mhypermodel\u001b[0m\u001b[0;34m.\u001b[0m\u001b[0mbuild\u001b[0m\u001b[0;34m(\u001b[0m\u001b[0mhp\u001b[0m\u001b[0;34m)\u001b[0m\u001b[0;34m\u001b[0m\u001b[0;34m\u001b[0m\u001b[0m\n\u001b[0m\u001b[1;32m    105\u001b[0m             \u001b[0;32mexcept\u001b[0m\u001b[0;34m:\u001b[0m\u001b[0;34m\u001b[0m\u001b[0;34m\u001b[0m\u001b[0m\n",
            "\u001b[0;32m<ipython-input-42-7ddc325ba563>\u001b[0m in \u001b[0;36mmodel_builder\u001b[0;34m(hp)\u001b[0m\n\u001b[1;32m     31\u001b[0m                   \u001b[0mloss\u001b[0m\u001b[0;34m=\u001b[0m\u001b[0mtf\u001b[0m\u001b[0;34m.\u001b[0m\u001b[0mkeras\u001b[0m\u001b[0;34m.\u001b[0m\u001b[0mlosses\u001b[0m\u001b[0;34m.\u001b[0m\u001b[0mSparseCategoricalCrossentropy\u001b[0m\u001b[0;34m(\u001b[0m\u001b[0mfrom_logits\u001b[0m\u001b[0;34m=\u001b[0m\u001b[0;32mTrue\u001b[0m\u001b[0;34m)\u001b[0m\u001b[0;34m,\u001b[0m\u001b[0;34m\u001b[0m\u001b[0;34m\u001b[0m\u001b[0m\n\u001b[0;32m---> 32\u001b[0;31m                   metrics = [f1, precision, recall, iou])\n\u001b[0m\u001b[1;32m     33\u001b[0m \u001b[0;34m\u001b[0m\u001b[0m\n",
            "\u001b[0;31mNameError\u001b[0m: name 'f1' is not defined",
            "\nDuring handling of the above exception, another exception occurred:\n",
            "\u001b[0;31mRuntimeError\u001b[0m                              Traceback (most recent call last)",
            "\u001b[0;32m<ipython-input-43-c4ec4985a2e9>\u001b[0m in \u001b[0;36m<module>\u001b[0;34m()\u001b[0m\n\u001b[1;32m      2\u001b[0m                      \u001b[0mobjective\u001b[0m \u001b[0;34m=\u001b[0m \u001b[0mkt\u001b[0m\u001b[0;34m.\u001b[0m\u001b[0mObjective\u001b[0m\u001b[0;34m(\u001b[0m\u001b[0;34m\"val_f1\"\u001b[0m\u001b[0;34m,\u001b[0m \u001b[0mdirection\u001b[0m\u001b[0;34m=\u001b[0m\u001b[0;34m\"max\"\u001b[0m\u001b[0;34m)\u001b[0m\u001b[0;34m,\u001b[0m\u001b[0;34m\u001b[0m\u001b[0;34m\u001b[0m\u001b[0m\n\u001b[1;32m      3\u001b[0m                      \u001b[0mmax_epochs\u001b[0m \u001b[0;34m=\u001b[0m \u001b[0;36m20\u001b[0m\u001b[0;34m,\u001b[0m\u001b[0;34m\u001b[0m\u001b[0;34m\u001b[0m\u001b[0m\n\u001b[0;32m----> 4\u001b[0;31m \t\t\t\t\t           project_name='hyperband_tuner')\n\u001b[0m",
            "\u001b[0;32m/usr/local/lib/python3.7/dist-packages/kerastuner/tuners/hyperband.py\u001b[0m in \u001b[0;36m__init__\u001b[0;34m(self, hypermodel, objective, max_epochs, factor, hyperband_iterations, seed, hyperparameters, tune_new_entries, allow_new_entries, **kwargs)\u001b[0m\n\u001b[1;32m    345\u001b[0m             \u001b[0moracle\u001b[0m\u001b[0;34m=\u001b[0m\u001b[0moracle\u001b[0m\u001b[0;34m,\u001b[0m\u001b[0;34m\u001b[0m\u001b[0;34m\u001b[0m\u001b[0m\n\u001b[1;32m    346\u001b[0m             \u001b[0mhypermodel\u001b[0m\u001b[0;34m=\u001b[0m\u001b[0mhypermodel\u001b[0m\u001b[0;34m,\u001b[0m\u001b[0;34m\u001b[0m\u001b[0;34m\u001b[0m\u001b[0m\n\u001b[0;32m--> 347\u001b[0;31m             **kwargs)\n\u001b[0m\u001b[1;32m    348\u001b[0m \u001b[0;34m\u001b[0m\u001b[0m\n\u001b[1;32m    349\u001b[0m     \u001b[0;32mdef\u001b[0m \u001b[0mrun_trial\u001b[0m\u001b[0;34m(\u001b[0m\u001b[0mself\u001b[0m\u001b[0;34m,\u001b[0m \u001b[0mtrial\u001b[0m\u001b[0;34m,\u001b[0m \u001b[0;34m*\u001b[0m\u001b[0mfit_args\u001b[0m\u001b[0;34m,\u001b[0m \u001b[0;34m**\u001b[0m\u001b[0mfit_kwargs\u001b[0m\u001b[0;34m)\u001b[0m\u001b[0;34m:\u001b[0m\u001b[0;34m\u001b[0m\u001b[0;34m\u001b[0m\u001b[0m\n",
            "\u001b[0;32m/usr/local/lib/python3.7/dist-packages/kerastuner/engine/multi_execution_tuner.py\u001b[0m in \u001b[0;36m__init__\u001b[0;34m(self, oracle, hypermodel, executions_per_trial, **kwargs)\u001b[0m\n\u001b[1;32m     57\u001b[0m                  **kwargs):\n\u001b[1;32m     58\u001b[0m         super(MultiExecutionTuner, self).__init__(\n\u001b[0;32m---> 59\u001b[0;31m             oracle, hypermodel, **kwargs)\n\u001b[0m\u001b[1;32m     60\u001b[0m         \u001b[0;32mif\u001b[0m \u001b[0misinstance\u001b[0m\u001b[0;34m(\u001b[0m\u001b[0moracle\u001b[0m\u001b[0;34m.\u001b[0m\u001b[0mobjective\u001b[0m\u001b[0;34m,\u001b[0m \u001b[0mlist\u001b[0m\u001b[0;34m)\u001b[0m\u001b[0;34m:\u001b[0m\u001b[0;34m\u001b[0m\u001b[0;34m\u001b[0m\u001b[0m\n\u001b[1;32m     61\u001b[0m             raise ValueError(\n",
            "\u001b[0;32m/usr/local/lib/python3.7/dist-packages/kerastuner/engine/tuner.py\u001b[0m in \u001b[0;36m__init__\u001b[0;34m(self, oracle, hypermodel, max_model_size, optimizer, loss, metrics, distribution_strategy, directory, project_name, logger, tuner_id, overwrite)\u001b[0m\n\u001b[1;32m    103\u001b[0m                                     \u001b[0mproject_name\u001b[0m\u001b[0;34m=\u001b[0m\u001b[0mproject_name\u001b[0m\u001b[0;34m,\u001b[0m\u001b[0;34m\u001b[0m\u001b[0;34m\u001b[0m\u001b[0m\n\u001b[1;32m    104\u001b[0m                                     \u001b[0mlogger\u001b[0m\u001b[0;34m=\u001b[0m\u001b[0mlogger\u001b[0m\u001b[0;34m,\u001b[0m\u001b[0;34m\u001b[0m\u001b[0;34m\u001b[0m\u001b[0m\n\u001b[0;32m--> 105\u001b[0;31m                                     overwrite=overwrite)\n\u001b[0m\u001b[1;32m    106\u001b[0m \u001b[0;34m\u001b[0m\u001b[0m\n\u001b[1;32m    107\u001b[0m         \u001b[0mself\u001b[0m\u001b[0;34m.\u001b[0m\u001b[0mdistribution_strategy\u001b[0m \u001b[0;34m=\u001b[0m \u001b[0mdistribution_strategy\u001b[0m\u001b[0;34m\u001b[0m\u001b[0;34m\u001b[0m\u001b[0m\n",
            "\u001b[0;32m/usr/local/lib/python3.7/dist-packages/kerastuner/engine/base_tuner.py\u001b[0m in \u001b[0;36m__init__\u001b[0;34m(self, oracle, hypermodel, directory, project_name, logger, overwrite)\u001b[0m\n\u001b[1;32m     88\u001b[0m         \u001b[0mself\u001b[0m\u001b[0;34m.\u001b[0m\u001b[0m_display\u001b[0m \u001b[0;34m=\u001b[0m \u001b[0mtuner_utils\u001b[0m\u001b[0;34m.\u001b[0m\u001b[0mDisplay\u001b[0m\u001b[0;34m(\u001b[0m\u001b[0moracle\u001b[0m\u001b[0;34m=\u001b[0m\u001b[0mself\u001b[0m\u001b[0;34m.\u001b[0m\u001b[0moracle\u001b[0m\u001b[0;34m)\u001b[0m\u001b[0;34m\u001b[0m\u001b[0;34m\u001b[0m\u001b[0m\n\u001b[1;32m     89\u001b[0m \u001b[0;34m\u001b[0m\u001b[0m\n\u001b[0;32m---> 90\u001b[0;31m         \u001b[0mself\u001b[0m\u001b[0;34m.\u001b[0m\u001b[0m_populate_initial_space\u001b[0m\u001b[0;34m(\u001b[0m\u001b[0;34m)\u001b[0m\u001b[0;34m\u001b[0m\u001b[0;34m\u001b[0m\u001b[0m\n\u001b[0m\u001b[1;32m     91\u001b[0m \u001b[0;34m\u001b[0m\u001b[0m\n\u001b[1;32m     92\u001b[0m         \u001b[0;32mif\u001b[0m \u001b[0;32mnot\u001b[0m \u001b[0moverwrite\u001b[0m \u001b[0;32mand\u001b[0m \u001b[0mtf\u001b[0m\u001b[0;34m.\u001b[0m\u001b[0mio\u001b[0m\u001b[0;34m.\u001b[0m\u001b[0mgfile\u001b[0m\u001b[0;34m.\u001b[0m\u001b[0mexists\u001b[0m\u001b[0;34m(\u001b[0m\u001b[0mself\u001b[0m\u001b[0;34m.\u001b[0m\u001b[0m_get_tuner_fname\u001b[0m\u001b[0;34m(\u001b[0m\u001b[0;34m)\u001b[0m\u001b[0;34m)\u001b[0m\u001b[0;34m:\u001b[0m\u001b[0;34m\u001b[0m\u001b[0;34m\u001b[0m\u001b[0m\n",
            "\u001b[0;32m/usr/local/lib/python3.7/dist-packages/kerastuner/engine/base_tuner.py\u001b[0m in \u001b[0;36m_populate_initial_space\u001b[0;34m(self)\u001b[0m\n\u001b[1;32m    103\u001b[0m         \"\"\"\n\u001b[1;32m    104\u001b[0m         \u001b[0mhp\u001b[0m \u001b[0;34m=\u001b[0m \u001b[0mself\u001b[0m\u001b[0;34m.\u001b[0m\u001b[0moracle\u001b[0m\u001b[0;34m.\u001b[0m\u001b[0mget_space\u001b[0m\u001b[0;34m(\u001b[0m\u001b[0;34m)\u001b[0m\u001b[0;34m\u001b[0m\u001b[0;34m\u001b[0m\u001b[0m\n\u001b[0;32m--> 105\u001b[0;31m         \u001b[0mself\u001b[0m\u001b[0;34m.\u001b[0m\u001b[0mhypermodel\u001b[0m\u001b[0;34m.\u001b[0m\u001b[0mbuild\u001b[0m\u001b[0;34m(\u001b[0m\u001b[0mhp\u001b[0m\u001b[0;34m)\u001b[0m\u001b[0;34m\u001b[0m\u001b[0;34m\u001b[0m\u001b[0m\n\u001b[0m\u001b[1;32m    106\u001b[0m         \u001b[0mself\u001b[0m\u001b[0;34m.\u001b[0m\u001b[0moracle\u001b[0m\u001b[0;34m.\u001b[0m\u001b[0mupdate_space\u001b[0m\u001b[0;34m(\u001b[0m\u001b[0mhp\u001b[0m\u001b[0;34m)\u001b[0m\u001b[0;34m\u001b[0m\u001b[0;34m\u001b[0m\u001b[0m\n\u001b[1;32m    107\u001b[0m \u001b[0;34m\u001b[0m\u001b[0m\n",
            "\u001b[0;32m/usr/local/lib/python3.7/dist-packages/kerastuner/engine/hypermodel.py\u001b[0m in \u001b[0;36m_build_wrapper\u001b[0;34m(self, hp, *args, **kwargs)\u001b[0m\n\u001b[1;32m     62\u001b[0m             \u001b[0;31m# to the search space.\u001b[0m\u001b[0;34m\u001b[0m\u001b[0;34m\u001b[0m\u001b[0;34m\u001b[0m\u001b[0m\n\u001b[1;32m     63\u001b[0m             \u001b[0mhp\u001b[0m \u001b[0;34m=\u001b[0m \u001b[0mhp\u001b[0m\u001b[0;34m.\u001b[0m\u001b[0mcopy\u001b[0m\u001b[0;34m(\u001b[0m\u001b[0;34m)\u001b[0m\u001b[0;34m\u001b[0m\u001b[0;34m\u001b[0m\u001b[0m\n\u001b[0;32m---> 64\u001b[0;31m         \u001b[0;32mreturn\u001b[0m \u001b[0mself\u001b[0m\u001b[0;34m.\u001b[0m\u001b[0m_build\u001b[0m\u001b[0;34m(\u001b[0m\u001b[0mhp\u001b[0m\u001b[0;34m,\u001b[0m \u001b[0;34m*\u001b[0m\u001b[0margs\u001b[0m\u001b[0;34m,\u001b[0m \u001b[0;34m**\u001b[0m\u001b[0mkwargs\u001b[0m\u001b[0;34m)\u001b[0m\u001b[0;34m\u001b[0m\u001b[0;34m\u001b[0m\u001b[0m\n\u001b[0m\u001b[1;32m     65\u001b[0m \u001b[0;34m\u001b[0m\u001b[0m\n\u001b[1;32m     66\u001b[0m \u001b[0;34m\u001b[0m\u001b[0m\n",
            "\u001b[0;32m/usr/local/lib/python3.7/dist-packages/kerastuner/engine/hypermodel.py\u001b[0m in \u001b[0;36mbuild\u001b[0;34m(self, hp)\u001b[0m\n\u001b[1;32m    111\u001b[0m                 \u001b[0;32mif\u001b[0m \u001b[0mi\u001b[0m \u001b[0;34m==\u001b[0m \u001b[0mself\u001b[0m\u001b[0;34m.\u001b[0m\u001b[0m_max_fail_streak\u001b[0m\u001b[0;34m:\u001b[0m\u001b[0;34m\u001b[0m\u001b[0;34m\u001b[0m\u001b[0m\n\u001b[1;32m    112\u001b[0m                     raise RuntimeError(\n\u001b[0;32m--> 113\u001b[0;31m                         'Too many failed attempts to build model.')\n\u001b[0m\u001b[1;32m    114\u001b[0m                 \u001b[0;32mcontinue\u001b[0m\u001b[0;34m\u001b[0m\u001b[0;34m\u001b[0m\u001b[0m\n\u001b[1;32m    115\u001b[0m \u001b[0;34m\u001b[0m\u001b[0m\n",
            "\u001b[0;31mRuntimeError\u001b[0m: Too many failed attempts to build model."
          ]
        }
      ]
    }
  ]
}